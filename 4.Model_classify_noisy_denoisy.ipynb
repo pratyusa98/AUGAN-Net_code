{
 "cells": [
  {
   "cell_type": "code",
   "execution_count": 1,
   "id": "4bfee013",
   "metadata": {},
   "outputs": [],
   "source": [
    "import tensorflow as tf\n",
    "from tensorflow.keras.models import Sequential\n",
    "from tensorflow.keras.layers import Conv1D, MaxPooling1D, Flatten, Dense\n",
    "\n",
    "import os\n",
    "from scipy.io import loadmat\n",
    "import numpy as np\n",
    "import tqdm\n",
    "from sklearn.metrics import classification_report,confusion_matrix\n",
    "import seaborn as sns\n",
    "import matplotlib.pyplot as plt"
   ]
  },
  {
   "cell_type": "code",
   "execution_count": 2,
   "id": "f3f982ae",
   "metadata": {},
   "outputs": [
    {
     "name": "stdout",
     "output_type": "stream",
     "text": [
      "Using GPU for Training\n"
     ]
    }
   ],
   "source": [
    "if tf.config.list_physical_devices('GPU'):\n",
    "    print(\"Using GPU for Training\")\n",
    "    physical_devices = tf.config.experimental.list_physical_devices('GPU')\n",
    "    tf.config.experimental.set_memory_growth(physical_devices[0],True)\n",
    "else:\n",
    "    print(\"Using CPU for Training\")"
   ]
  },
  {
   "cell_type": "markdown",
   "id": "2d8aa8b5",
   "metadata": {},
   "source": [
    "# On Original Data"
   ]
  },
  {
   "cell_type": "code",
   "execution_count": 3,
   "id": "d8a0e4f4",
   "metadata": {},
   "outputs": [
    {
     "name": "stderr",
     "output_type": "stream",
     "text": [
      "100%|██████████| 800/800 [00:00<00:00, 1750.60it/s]\n"
     ]
    }
   ],
   "source": [
    "import os\n",
    "from scipy.io import loadmat\n",
    "\n",
    "folder_path = 'data_classi/data_noaug/clean'\n",
    "label_mapping = {\"AS\": 0, \"MR\": 1, \"MVP\": 2, \"MS\": 3, \"N\": 4}\n",
    "\n",
    "# Function to extract label from file name\n",
    "def extract_label(file_name):\n",
    "    for key, value in label_mapping.items():\n",
    "        if key in file_name:\n",
    "            return value\n",
    "    return None\n",
    "\n",
    "# Lists to store data and labels\n",
    "data_list = []\n",
    "labels_list = []\n",
    "\n",
    "# Loop through all files in the folder\n",
    "for file_name in tqdm.tqdm(os.listdir(folder_path)):\n",
    "    if file_name.endswith('.mat'):\n",
    "        file_path = os.path.join(folder_path, file_name)\n",
    "\n",
    "        # Load .mat file\n",
    "        mat_data = loadmat(file_path)\n",
    "\n",
    "        # Process your data as needed, for example, here just append the loaded data to the list\n",
    "        data_list.append(mat_data)\n",
    "\n",
    "        # Extract label from the file name\n",
    "        label = extract_label(file_name)\n",
    "\n",
    "        # Append the label to the labels list\n",
    "        labels_list.append(label)\n",
    "\n",
    "# Convert lists to arrays if needed\n",
    "data_array = np.array(data_list)\n",
    "labels_array = np.array(labels_list)"
   ]
  },
  {
   "cell_type": "code",
   "execution_count": 4,
   "id": "46ca8c11",
   "metadata": {},
   "outputs": [],
   "source": [
    "denoise_spe_arrays = [entry['denoise_spe'] for entry in data_array]\n",
    "# Find the maximum size along the second dimension\n",
    "max_size = max(arr.shape[1] for arr in denoise_spe_arrays)\n",
    "# Pad each array to have the same size\n",
    "data_arrays = np.array([np.pad(arr, ((0, 0), (0, max_size - arr.shape[1])), mode='constant') for arr in denoise_spe_arrays])"
   ]
  },
  {
   "cell_type": "code",
   "execution_count": 5,
   "id": "bdaa2511",
   "metadata": {},
   "outputs": [
    {
     "data": {
      "text/plain": [
       "((800, 128, 512), (800,))"
      ]
     },
     "execution_count": 5,
     "metadata": {},
     "output_type": "execute_result"
    }
   ],
   "source": [
    "data_arrays.shape,labels_array.shape"
   ]
  },
  {
   "cell_type": "code",
   "execution_count": 6,
   "id": "64aadfdf",
   "metadata": {},
   "outputs": [],
   "source": [
    "X_clean = data_arrays\n",
    "y_clean = labels_array"
   ]
  },
  {
   "cell_type": "code",
   "execution_count": 7,
   "id": "c0884650",
   "metadata": {},
   "outputs": [
    {
     "data": {
      "text/plain": [
       "((800, 128, 512), (800,))"
      ]
     },
     "execution_count": 7,
     "metadata": {},
     "output_type": "execute_result"
    }
   ],
   "source": [
    "X_clean.shape,y_clean.shape"
   ]
  },
  {
   "cell_type": "code",
   "execution_count": 8,
   "id": "feeb6e2d",
   "metadata": {},
   "outputs": [
    {
     "data": {
      "text/plain": [
       "(800, 128, 512)"
      ]
     },
     "execution_count": 8,
     "metadata": {},
     "output_type": "execute_result"
    }
   ],
   "source": [
    "# extract real part\n",
    "X_clean_real  = np.real(X_clean)\n",
    "X_clean_real.shape"
   ]
  },
  {
   "cell_type": "code",
   "execution_count": 9,
   "id": "6c91d1f5",
   "metadata": {},
   "outputs": [
    {
     "data": {
      "text/plain": [
       "(160, 160, 160, 160, 160)"
      ]
     },
     "execution_count": 9,
     "metadata": {},
     "output_type": "execute_result"
    }
   ],
   "source": [
    "np.count_nonzero(y_clean == 0), np.count_nonzero(y_clean == 1), np.count_nonzero(y_clean == 2),\\\n",
    "                np.count_nonzero(y_clean == 3),np.count_nonzero(y_clean == 4)"
   ]
  },
  {
   "cell_type": "code",
   "execution_count": null,
   "id": "d405e9b6",
   "metadata": {},
   "outputs": [],
   "source": []
  },
  {
   "cell_type": "code",
   "execution_count": 10,
   "id": "c62e71c6",
   "metadata": {},
   "outputs": [],
   "source": [
    "from sklearn.model_selection import train_test_split\n",
    "X_train, X_valid, y_train, y_valid = train_test_split(X_clean_real, y_clean, test_size=0.20, random_state=42)"
   ]
  },
  {
   "cell_type": "code",
   "execution_count": 11,
   "id": "643283b3",
   "metadata": {},
   "outputs": [
    {
     "data": {
      "text/plain": [
       "((640, 128, 512), (160, 128, 512), (640,), (160,))"
      ]
     },
     "execution_count": 11,
     "metadata": {},
     "output_type": "execute_result"
    }
   ],
   "source": [
    "X_train.shape, X_valid.shape, y_train.shape, y_valid.shape"
   ]
  },
  {
   "cell_type": "code",
   "execution_count": 12,
   "id": "5a444d9d",
   "metadata": {},
   "outputs": [
    {
     "data": {
      "text/plain": [
       "array([32, 29, 34, 28, 37], dtype=int64)"
      ]
     },
     "execution_count": 12,
     "metadata": {},
     "output_type": "execute_result"
    }
   ],
   "source": [
    "np.unique(y_valid, return_counts=True)[1]"
   ]
  },
  {
   "cell_type": "code",
   "execution_count": 13,
   "id": "31694a82",
   "metadata": {},
   "outputs": [
    {
     "data": {
      "text/plain": [
       "array([[[[-1.81296490e+00],\n",
       "         [-1.79386336e+00],\n",
       "         [-1.39238525e+00],\n",
       "         ...,\n",
       "         [ 0.00000000e+00],\n",
       "         [ 0.00000000e+00],\n",
       "         [ 0.00000000e+00]],\n",
       "\n",
       "        [[-1.71211290e-02],\n",
       "         [ 5.75549758e-02],\n",
       "         [-5.43631924e-01],\n",
       "         ...,\n",
       "         [ 0.00000000e+00],\n",
       "         [ 0.00000000e+00],\n",
       "         [ 0.00000000e+00]],\n",
       "\n",
       "        [[ 9.36830452e-01],\n",
       "         [ 6.68660208e-01],\n",
       "         [ 1.92374684e+00],\n",
       "         ...,\n",
       "         [ 0.00000000e+00],\n",
       "         [ 0.00000000e+00],\n",
       "         [ 0.00000000e+00]],\n",
       "\n",
       "        ...,\n",
       "\n",
       "        [[-1.87574371e-04],\n",
       "         [ 7.84955625e-04],\n",
       "         [-1.07367147e-03],\n",
       "         ...,\n",
       "         [ 0.00000000e+00],\n",
       "         [ 0.00000000e+00],\n",
       "         [ 0.00000000e+00]],\n",
       "\n",
       "        [[ 8.93696065e-04],\n",
       "         [-2.25943256e-04],\n",
       "         [-6.58919506e-04],\n",
       "         ...,\n",
       "         [ 0.00000000e+00],\n",
       "         [ 0.00000000e+00],\n",
       "         [ 0.00000000e+00]],\n",
       "\n",
       "        [[ 1.09927251e-04],\n",
       "         [-4.53707182e-04],\n",
       "         [ 1.46234264e-03],\n",
       "         ...,\n",
       "         [ 0.00000000e+00],\n",
       "         [ 0.00000000e+00],\n",
       "         [ 0.00000000e+00]]],\n",
       "\n",
       "\n",
       "       [[[-5.68502858e+00],\n",
       "         [-4.75636309e+00],\n",
       "         [-4.89526807e+00],\n",
       "         ...,\n",
       "         [ 0.00000000e+00],\n",
       "         [ 0.00000000e+00],\n",
       "         [ 0.00000000e+00]],\n",
       "\n",
       "        [[ 1.43108166e-01],\n",
       "         [-2.23242429e-01],\n",
       "         [-4.28032589e-01],\n",
       "         ...,\n",
       "         [ 0.00000000e+00],\n",
       "         [ 0.00000000e+00],\n",
       "         [ 0.00000000e+00]],\n",
       "\n",
       "        [[ 2.49354712e+00],\n",
       "         [ 1.72941576e+00],\n",
       "         [ 5.41440166e+00],\n",
       "         ...,\n",
       "         [ 0.00000000e+00],\n",
       "         [ 0.00000000e+00],\n",
       "         [ 0.00000000e+00]],\n",
       "\n",
       "        ...,\n",
       "\n",
       "        [[ 3.24805753e-03],\n",
       "         [-3.20785604e-03],\n",
       "         [ 1.17999633e-03],\n",
       "         ...,\n",
       "         [ 0.00000000e+00],\n",
       "         [ 0.00000000e+00],\n",
       "         [ 0.00000000e+00]],\n",
       "\n",
       "        [[ 1.48697074e-03],\n",
       "         [-5.56060216e-04],\n",
       "         [ 1.85295060e-03],\n",
       "         ...,\n",
       "         [ 0.00000000e+00],\n",
       "         [ 0.00000000e+00],\n",
       "         [ 0.00000000e+00]],\n",
       "\n",
       "        [[-1.10063643e-03],\n",
       "         [ 6.36193886e-04],\n",
       "         [ 7.23222727e-04],\n",
       "         ...,\n",
       "         [ 0.00000000e+00],\n",
       "         [ 0.00000000e+00],\n",
       "         [ 0.00000000e+00]]],\n",
       "\n",
       "\n",
       "       [[[ 8.64719299e-01],\n",
       "         [ 1.09945589e+00],\n",
       "         [ 1.65833175e+00],\n",
       "         ...,\n",
       "         [ 0.00000000e+00],\n",
       "         [ 0.00000000e+00],\n",
       "         [ 0.00000000e+00]],\n",
       "\n",
       "        [[-5.13393021e-01],\n",
       "         [ 5.16257010e-01],\n",
       "         [-4.16387281e-01],\n",
       "         ...,\n",
       "         [ 0.00000000e+00],\n",
       "         [ 0.00000000e+00],\n",
       "         [ 0.00000000e+00]],\n",
       "\n",
       "        [[ 7.12896614e-01],\n",
       "         [-3.20627401e+00],\n",
       "         [ 2.30658522e+00],\n",
       "         ...,\n",
       "         [ 0.00000000e+00],\n",
       "         [ 0.00000000e+00],\n",
       "         [ 0.00000000e+00]],\n",
       "\n",
       "        ...,\n",
       "\n",
       "        [[-1.52895098e-03],\n",
       "         [-2.69652922e-03],\n",
       "         [ 4.82642699e-03],\n",
       "         ...,\n",
       "         [ 0.00000000e+00],\n",
       "         [ 0.00000000e+00],\n",
       "         [ 0.00000000e+00]],\n",
       "\n",
       "        [[ 1.75013856e-03],\n",
       "         [ 3.42497292e-03],\n",
       "         [ 4.62626443e-03],\n",
       "         ...,\n",
       "         [ 0.00000000e+00],\n",
       "         [ 0.00000000e+00],\n",
       "         [ 0.00000000e+00]],\n",
       "\n",
       "        [[ 1.07212820e-03],\n",
       "         [ 1.24632148e-03],\n",
       "         [-2.51160453e-03],\n",
       "         ...,\n",
       "         [ 0.00000000e+00],\n",
       "         [ 0.00000000e+00],\n",
       "         [ 0.00000000e+00]]],\n",
       "\n",
       "\n",
       "       ...,\n",
       "\n",
       "\n",
       "       [[[ 3.81642981e+00],\n",
       "         [ 3.82981784e+00],\n",
       "         [ 3.87216705e+00],\n",
       "         ...,\n",
       "         [ 0.00000000e+00],\n",
       "         [ 0.00000000e+00],\n",
       "         [ 0.00000000e+00]],\n",
       "\n",
       "        [[ 7.03307614e-03],\n",
       "         [-1.25811776e-02],\n",
       "         [-2.26368110e-02],\n",
       "         ...,\n",
       "         [ 0.00000000e+00],\n",
       "         [ 0.00000000e+00],\n",
       "         [ 0.00000000e+00]],\n",
       "\n",
       "        [[-1.92014705e+00],\n",
       "         [-1.89675421e+00],\n",
       "         [-1.93050211e+00],\n",
       "         ...,\n",
       "         [ 0.00000000e+00],\n",
       "         [ 0.00000000e+00],\n",
       "         [ 0.00000000e+00]],\n",
       "\n",
       "        ...,\n",
       "\n",
       "        [[-1.16105468e-03],\n",
       "         [ 6.76771636e-04],\n",
       "         [-7.64516113e-04],\n",
       "         ...,\n",
       "         [ 0.00000000e+00],\n",
       "         [ 0.00000000e+00],\n",
       "         [ 0.00000000e+00]],\n",
       "\n",
       "        [[ 3.75386931e-04],\n",
       "         [ 1.92348347e-03],\n",
       "         [-7.45915890e-04],\n",
       "         ...,\n",
       "         [ 0.00000000e+00],\n",
       "         [ 0.00000000e+00],\n",
       "         [ 0.00000000e+00]],\n",
       "\n",
       "        [[ 1.00436020e-03],\n",
       "         [-3.83182895e-04],\n",
       "         [ 8.67753937e-04],\n",
       "         ...,\n",
       "         [ 0.00000000e+00],\n",
       "         [ 0.00000000e+00],\n",
       "         [ 0.00000000e+00]]],\n",
       "\n",
       "\n",
       "       [[[ 1.87256916e+00],\n",
       "         [ 2.89657729e+00],\n",
       "         [ 2.44381426e+00],\n",
       "         ...,\n",
       "         [ 0.00000000e+00],\n",
       "         [ 0.00000000e+00],\n",
       "         [ 0.00000000e+00]],\n",
       "\n",
       "        [[ 2.43082853e-01],\n",
       "         [-5.01891476e-01],\n",
       "         [ 3.54399100e-01],\n",
       "         ...,\n",
       "         [ 0.00000000e+00],\n",
       "         [ 0.00000000e+00],\n",
       "         [ 0.00000000e+00]],\n",
       "\n",
       "        [[-1.31602921e+00],\n",
       "         [-1.63157117e+00],\n",
       "         [-1.85206458e-01],\n",
       "         ...,\n",
       "         [ 0.00000000e+00],\n",
       "         [ 0.00000000e+00],\n",
       "         [ 0.00000000e+00]],\n",
       "\n",
       "        ...,\n",
       "\n",
       "        [[-3.01432562e-03],\n",
       "         [ 3.37182243e-03],\n",
       "         [ 4.16376903e-04],\n",
       "         ...,\n",
       "         [ 0.00000000e+00],\n",
       "         [ 0.00000000e+00],\n",
       "         [ 0.00000000e+00]],\n",
       "\n",
       "        [[ 4.30542229e-03],\n",
       "         [ 2.98223295e-03],\n",
       "         [-1.49550300e-03],\n",
       "         ...,\n",
       "         [ 0.00000000e+00],\n",
       "         [ 0.00000000e+00],\n",
       "         [ 0.00000000e+00]],\n",
       "\n",
       "        [[ 1.64854281e-03],\n",
       "         [-2.18012227e-03],\n",
       "         [-6.96209411e-04],\n",
       "         ...,\n",
       "         [ 0.00000000e+00],\n",
       "         [ 0.00000000e+00],\n",
       "         [ 0.00000000e+00]]],\n",
       "\n",
       "\n",
       "       [[[-1.21555410e+00],\n",
       "         [-1.09965080e+00],\n",
       "         [-9.93998306e-01],\n",
       "         ...,\n",
       "         [ 0.00000000e+00],\n",
       "         [ 0.00000000e+00],\n",
       "         [ 0.00000000e+00]],\n",
       "\n",
       "        [[ 3.71986328e-02],\n",
       "         [-1.41347962e-01],\n",
       "         [-1.53725471e-02],\n",
       "         ...,\n",
       "         [ 0.00000000e+00],\n",
       "         [ 0.00000000e+00],\n",
       "         [ 0.00000000e+00]],\n",
       "\n",
       "        [[ 4.68686501e-01],\n",
       "         [ 8.92269722e-01],\n",
       "         [ 1.21969681e-01],\n",
       "         ...,\n",
       "         [ 0.00000000e+00],\n",
       "         [ 0.00000000e+00],\n",
       "         [ 0.00000000e+00]],\n",
       "\n",
       "        ...,\n",
       "\n",
       "        [[-1.01082039e-04],\n",
       "         [ 1.63804213e-04],\n",
       "         [ 5.33073754e-04],\n",
       "         ...,\n",
       "         [ 0.00000000e+00],\n",
       "         [ 0.00000000e+00],\n",
       "         [ 0.00000000e+00]],\n",
       "\n",
       "        [[-1.11344792e-04],\n",
       "         [ 5.70006407e-05],\n",
       "         [-4.00574374e-04],\n",
       "         ...,\n",
       "         [ 0.00000000e+00],\n",
       "         [ 0.00000000e+00],\n",
       "         [ 0.00000000e+00]],\n",
       "\n",
       "        [[-2.03588605e-05],\n",
       "         [-1.46248200e-04],\n",
       "         [-6.78736667e-04],\n",
       "         ...,\n",
       "         [ 0.00000000e+00],\n",
       "         [ 0.00000000e+00],\n",
       "         [ 0.00000000e+00]]]])"
      ]
     },
     "execution_count": 13,
     "metadata": {},
     "output_type": "execute_result"
    }
   ],
   "source": [
    "np.expand_dims(X_train,axis=3)"
   ]
  },
  {
   "cell_type": "code",
   "execution_count": null,
   "id": "9a8c7305",
   "metadata": {},
   "outputs": [],
   "source": []
  },
  {
   "cell_type": "code",
   "execution_count": 14,
   "id": "4e3e2312",
   "metadata": {},
   "outputs": [],
   "source": [
    "# mport tensorflow as tf\n",
    "# from tensorflow.keras import layers, models\n",
    "\n",
    "# # Create the CNN model\n",
    "# model = models.Sequential()\n",
    "\n",
    "# # Convolutional Layer 1\n",
    "# model.add(layers.Conv1D(32, kernel_size=33, strides=1, activation='relu', padding='same', input_shape=(128, 512)))\n",
    "# model.add(layers.MaxPooling1D(pool_size=2, strides=1, padding='same'))\n",
    "# model.add(layers.Dropout(0.5))\n",
    "\n",
    "# # Convolutional Layer 2\n",
    "# model.add(layers.Conv1D(16, kernel_size=13, strides=1, activation='relu', padding='same'))\n",
    "# model.add(layers.MaxPooling1D(pool_size=2, strides=1, padding='same'))\n",
    "# model.add(layers.Dropout(0.5))\n",
    "\n",
    "# # Flatten layer\n",
    "# model.add(layers.Flatten())\n",
    "\n",
    "# # Reshape layer\n",
    "# model.add(layers.Reshape((64, 32)))\n",
    "\n",
    "# # GRU layer\n",
    "# model.add(layers.GRU(64, return_sequences=False))  # Change to return_sequences=True\n",
    "# model.add(layers.Dropout(0.5))\n",
    "\n",
    "# # Bidirectional LSTM layer with input from GRU\n",
    "# # model.add(layers.Bidirectional(layers.LSTM(64, return_sequences=False)))\n",
    "# # model.add(layers.Dropout(0.5))\n",
    "\n",
    "# # Fully Connected Layer\n",
    "# model.add(layers.Dense(5, activation='softmax'))\n",
    "\n",
    "# # Display the model summary\n",
    "# model.summary()"
   ]
  },
  {
   "cell_type": "markdown",
   "id": "493a86a7",
   "metadata": {},
   "source": [
    "### Model"
   ]
  },
  {
   "cell_type": "code",
   "execution_count": 15,
   "id": "3d7bb88f",
   "metadata": {
    "scrolled": true
   },
   "outputs": [
    {
     "name": "stdout",
     "output_type": "stream",
     "text": [
      "Model: \"sequential\"\n",
      "_________________________________________________________________\n",
      " Layer (type)                Output Shape              Param #   \n",
      "=================================================================\n",
      " reshape (Reshape)           (None, 128, 512, 1)       0         \n",
      "                                                                 \n",
      " conv2d (Conv2D)             (None, 128, 512, 32)      320       \n",
      "                                                                 \n",
      " max_pooling2d (MaxPooling2D  (None, 64, 256, 32)      0         \n",
      " )                                                               \n",
      "                                                                 \n",
      " dropout (Dropout)           (None, 64, 256, 32)       0         \n",
      "                                                                 \n",
      " conv2d_1 (Conv2D)           (None, 64, 256, 16)       4624      \n",
      "                                                                 \n",
      " max_pooling2d_1 (MaxPooling  (None, 32, 128, 16)      0         \n",
      " 2D)                                                             \n",
      "                                                                 \n",
      " dropout_1 (Dropout)         (None, 32, 128, 16)       0         \n",
      "                                                                 \n",
      " flatten (Flatten)           (None, 65536)             0         \n",
      "                                                                 \n",
      " reshape_1 (Reshape)         (None, 32, 2048)          0         \n",
      "                                                                 \n",
      " gru (GRU)                   (None, 64)                405888    \n",
      "                                                                 \n",
      " dropout_2 (Dropout)         (None, 64)                0         \n",
      "                                                                 \n",
      " dense (Dense)               (None, 5)                 325       \n",
      "                                                                 \n",
      "=================================================================\n",
      "Total params: 411,157\n",
      "Trainable params: 411,157\n",
      "Non-trainable params: 0\n",
      "_________________________________________________________________\n"
     ]
    }
   ],
   "source": [
    "import tensorflow as tf\n",
    "from tensorflow.keras import layers, models\n",
    "\n",
    "# Create the CNN model\n",
    "model = models.Sequential()\n",
    "\n",
    "# Reshape input to 2D\n",
    "model.add(layers.Reshape((128, 512, 1), input_shape=(128, 512)))\n",
    "\n",
    "# Convolutional Layer 1\n",
    "model.add(layers.Conv2D(32, kernel_size=(3, 3), activation='relu', padding='same'))\n",
    "model.add(layers.MaxPooling2D(pool_size=(2, 2), padding='same'))\n",
    "model.add(layers.Dropout(0.5))\n",
    "\n",
    "# Convolutional Layer 2\n",
    "model.add(layers.Conv2D(16, kernel_size=(3, 3), activation='relu', padding='same'))\n",
    "model.add(layers.MaxPooling2D(pool_size=(2, 2), padding='same'))\n",
    "model.add(layers.Dropout(0.5))\n",
    "\n",
    "# Flatten layer\n",
    "model.add(layers.Flatten())\n",
    "\n",
    "# Reshape to apply GRU\n",
    "model.add(layers.Reshape((32, 128 * 16)))  # 32 time steps, 128 * 16 features\n",
    "\n",
    "# Apply GRU\n",
    "model.add(layers.GRU(64, return_sequences=False))\n",
    "model.add(layers.Dropout(0.5))\n",
    "\n",
    "# Fully Connected Layer\n",
    "model.add(layers.Dense(5, activation='softmax'))\n",
    "\n",
    "# Display the model summary\n",
    "model.summary()\n"
   ]
  },
  {
   "cell_type": "code",
   "execution_count": 16,
   "id": "83c93d30",
   "metadata": {},
   "outputs": [],
   "source": [
    "# # Define the model\n",
    "# model = Sequential()\n",
    "\n",
    "# # First Conv1D layer\n",
    "# model.add(Conv1D(filters=32, kernel_size=3, activation='relu', input_shape=(128, 448)))\n",
    "# model.add(MaxPooling1D(pool_size=2))\n",
    "\n",
    "# # Second Conv1D layer\n",
    "# model.add(Conv1D(filters=64, kernel_size=3, activation='relu'))\n",
    "# model.add(MaxPooling1D(pool_size=2))\n",
    "\n",
    "# # Flatten layer to transition from convolutional layers to dense layers\n",
    "# model.add(Flatten())\n",
    "\n",
    "# # First Dense layer\n",
    "# model.add(Dense(128, activation='relu'))\n",
    "\n",
    "# # Second Dense layer\n",
    "# model.add(Dense(64, activation='relu'))\n",
    "\n",
    "# # Output layer with 5 units for the 5 classes and softmax activation\n",
    "# model.add(Dense(5, activation='softmax'))\n",
    "\n",
    "# model.summary()"
   ]
  },
  {
   "cell_type": "code",
   "execution_count": null,
   "id": "e35ab2d2",
   "metadata": {},
   "outputs": [],
   "source": []
  },
  {
   "cell_type": "code",
   "execution_count": null,
   "id": "219e4d85",
   "metadata": {},
   "outputs": [],
   "source": []
  },
  {
   "cell_type": "code",
   "execution_count": 17,
   "id": "55c0547a",
   "metadata": {},
   "outputs": [],
   "source": [
    "# from sklearn.model_selection import KFold\n",
    "\n",
    "# model.compile(loss='sparse_categorical_crossentropy', optimizer='adam', metrics=['accuracy'])\n",
    "\n",
    "\n",
    "# # Define the number of folds for cross-validation\n",
    "# num_folds = 2\n",
    "# kf = KFold(n_splits=num_folds, shuffle=True, random_state=42)\n",
    "\n",
    "# fold_counter = 1\n",
    "# # Train the model using cross-validation\n",
    "# for train_index, test_index in kf.split(X):\n",
    "#     X_train, X_test = X[train_index], X[test_index]\n",
    "#     y_train, y_test = y[train_index], y[test_index]\n",
    "    \n",
    "#     print(f\"Training Fold {fold_counter}\")\n",
    "#     model.fit(X_train, y_train, epochs=2, batch_size=64, validation_data=(X_test, y_test))\n",
    "    \n",
    "#     fold_counter += 1"
   ]
  },
  {
   "cell_type": "code",
   "execution_count": 18,
   "id": "a3c59ffc",
   "metadata": {
    "scrolled": true
   },
   "outputs": [
    {
     "name": "stdout",
     "output_type": "stream",
     "text": [
      "Epoch 1/100\n",
      "10/10 [==============================] - 6s 56ms/step - loss: 1.6092 - accuracy: 0.2406\n",
      "Epoch 2/100\n",
      "10/10 [==============================] - 1s 54ms/step - loss: 1.6074 - accuracy: 0.3078\n",
      "Epoch 3/100\n",
      "10/10 [==============================] - 1s 55ms/step - loss: 1.6058 - accuracy: 0.3594\n",
      "Epoch 4/100\n",
      "10/10 [==============================] - 1s 54ms/step - loss: 1.6035 - accuracy: 0.3828\n",
      "Epoch 5/100\n",
      "10/10 [==============================] - 1s 58ms/step - loss: 1.6004 - accuracy: 0.4031\n",
      "Epoch 6/100\n",
      "10/10 [==============================] - 1s 54ms/step - loss: 1.5969 - accuracy: 0.3812\n",
      "Epoch 7/100\n",
      "10/10 [==============================] - 1s 54ms/step - loss: 1.5920 - accuracy: 0.4703\n",
      "Epoch 8/100\n",
      "10/10 [==============================] - 1s 54ms/step - loss: 1.5846 - accuracy: 0.4734\n",
      "Epoch 9/100\n",
      "10/10 [==============================] - 1s 54ms/step - loss: 1.5775 - accuracy: 0.4156\n",
      "Epoch 10/100\n",
      "10/10 [==============================] - 1s 54ms/step - loss: 1.5664 - accuracy: 0.5359\n",
      "Epoch 11/100\n",
      "10/10 [==============================] - 1s 54ms/step - loss: 1.5531 - accuracy: 0.5344\n",
      "Epoch 12/100\n",
      "10/10 [==============================] - 1s 55ms/step - loss: 1.5324 - accuracy: 0.5953\n",
      "Epoch 13/100\n",
      "10/10 [==============================] - 1s 54ms/step - loss: 1.5122 - accuracy: 0.5797\n",
      "Epoch 14/100\n",
      "10/10 [==============================] - 1s 55ms/step - loss: 1.4782 - accuracy: 0.5953\n",
      "Epoch 15/100\n",
      "10/10 [==============================] - 1s 57ms/step - loss: 1.4364 - accuracy: 0.6391\n",
      "Epoch 16/100\n",
      "10/10 [==============================] - 1s 57ms/step - loss: 1.3795 - accuracy: 0.6641\n",
      "Epoch 17/100\n",
      "10/10 [==============================] - 1s 56ms/step - loss: 1.3091 - accuracy: 0.6484\n",
      "Epoch 18/100\n",
      "10/10 [==============================] - 1s 56ms/step - loss: 1.2180 - accuracy: 0.6375\n",
      "Epoch 19/100\n",
      "10/10 [==============================] - 1s 55ms/step - loss: 1.1123 - accuracy: 0.6406\n",
      "Epoch 20/100\n",
      "10/10 [==============================] - 1s 54ms/step - loss: 1.0190 - accuracy: 0.6453\n",
      "Epoch 21/100\n",
      "10/10 [==============================] - 1s 56ms/step - loss: 0.9271 - accuracy: 0.6906\n",
      "Epoch 22/100\n",
      "10/10 [==============================] - 1s 56ms/step - loss: 0.8302 - accuracy: 0.7266\n",
      "Epoch 23/100\n",
      "10/10 [==============================] - 1s 56ms/step - loss: 0.7294 - accuracy: 0.7516\n",
      "Epoch 24/100\n",
      "10/10 [==============================] - 1s 55ms/step - loss: 0.6737 - accuracy: 0.7859\n",
      "Epoch 25/100\n",
      "10/10 [==============================] - 1s 55ms/step - loss: 0.5593 - accuracy: 0.8125\n",
      "Epoch 26/100\n",
      "10/10 [==============================] - 1s 56ms/step - loss: 0.4831 - accuracy: 0.8484\n",
      "Epoch 27/100\n",
      "10/10 [==============================] - 1s 55ms/step - loss: 0.4310 - accuracy: 0.8734\n",
      "Epoch 28/100\n",
      "10/10 [==============================] - 1s 56ms/step - loss: 0.3637 - accuracy: 0.9000\n",
      "Epoch 29/100\n",
      "10/10 [==============================] - 1s 55ms/step - loss: 0.3543 - accuracy: 0.8922\n",
      "Epoch 30/100\n",
      "10/10 [==============================] - 1s 54ms/step - loss: 0.3049 - accuracy: 0.9219\n",
      "Epoch 31/100\n",
      "10/10 [==============================] - 1s 56ms/step - loss: 0.3068 - accuracy: 0.9094\n",
      "Epoch 32/100\n",
      "10/10 [==============================] - 1s 56ms/step - loss: 0.2451 - accuracy: 0.9406\n",
      "Epoch 33/100\n",
      "10/10 [==============================] - 1s 56ms/step - loss: 0.2632 - accuracy: 0.9250\n",
      "Epoch 34/100\n",
      "10/10 [==============================] - 1s 55ms/step - loss: 0.2354 - accuracy: 0.9375\n",
      "Epoch 35/100\n",
      "10/10 [==============================] - 1s 54ms/step - loss: 0.1967 - accuracy: 0.9547\n",
      "Epoch 36/100\n",
      "10/10 [==============================] - 1s 54ms/step - loss: 0.2013 - accuracy: 0.9500\n",
      "Epoch 37/100\n",
      "10/10 [==============================] - 1s 54ms/step - loss: 0.1965 - accuracy: 0.9531\n",
      "Epoch 38/100\n",
      "10/10 [==============================] - 1s 54ms/step - loss: 0.1552 - accuracy: 0.9672\n",
      "Epoch 39/100\n",
      "10/10 [==============================] - 1s 54ms/step - loss: 0.1565 - accuracy: 0.9641\n",
      "Epoch 40/100\n",
      "10/10 [==============================] - 1s 54ms/step - loss: 0.1482 - accuracy: 0.9641\n",
      "Epoch 41/100\n",
      "10/10 [==============================] - 1s 53ms/step - loss: 0.1453 - accuracy: 0.9688\n",
      "Epoch 42/100\n",
      "10/10 [==============================] - 1s 54ms/step - loss: 0.1336 - accuracy: 0.9719\n",
      "Epoch 43/100\n",
      "10/10 [==============================] - 1s 56ms/step - loss: 0.1188 - accuracy: 0.9781\n",
      "Epoch 44/100\n",
      "10/10 [==============================] - 1s 57ms/step - loss: 0.1041 - accuracy: 0.9812\n",
      "Epoch 45/100\n",
      "10/10 [==============================] - 1s 54ms/step - loss: 0.1046 - accuracy: 0.9828\n",
      "Epoch 46/100\n",
      "10/10 [==============================] - 1s 53ms/step - loss: 0.1104 - accuracy: 0.9719\n",
      "Epoch 47/100\n",
      "10/10 [==============================] - 1s 54ms/step - loss: 0.0892 - accuracy: 0.9906\n",
      "Epoch 48/100\n",
      "10/10 [==============================] - 1s 54ms/step - loss: 0.0961 - accuracy: 0.9781\n",
      "Epoch 49/100\n",
      "10/10 [==============================] - 1s 54ms/step - loss: 0.0925 - accuracy: 0.9812\n",
      "Epoch 50/100\n",
      "10/10 [==============================] - 1s 54ms/step - loss: 0.0752 - accuracy: 0.9844\n",
      "Epoch 51/100\n",
      "10/10 [==============================] - 1s 54ms/step - loss: 0.0796 - accuracy: 0.9797\n",
      "Epoch 52/100\n",
      "10/10 [==============================] - 1s 55ms/step - loss: 0.0697 - accuracy: 0.9875\n",
      "Epoch 53/100\n",
      "10/10 [==============================] - 1s 53ms/step - loss: 0.0748 - accuracy: 0.9875\n",
      "Epoch 54/100\n",
      "10/10 [==============================] - 1s 54ms/step - loss: 0.0653 - accuracy: 0.9891\n",
      "Epoch 55/100\n",
      "10/10 [==============================] - 1s 55ms/step - loss: 0.0661 - accuracy: 0.9922\n",
      "Epoch 56/100\n",
      "10/10 [==============================] - 1s 54ms/step - loss: 0.0623 - accuracy: 0.9891\n",
      "Epoch 57/100\n",
      "10/10 [==============================] - 1s 55ms/step - loss: 0.0577 - accuracy: 0.9891\n",
      "Epoch 58/100\n",
      "10/10 [==============================] - 1s 54ms/step - loss: 0.0566 - accuracy: 0.9922\n",
      "Epoch 59/100\n",
      "10/10 [==============================] - 1s 54ms/step - loss: 0.0423 - accuracy: 0.9953\n",
      "Epoch 60/100\n",
      "10/10 [==============================] - 1s 54ms/step - loss: 0.0444 - accuracy: 0.9969\n",
      "Epoch 61/100\n",
      "10/10 [==============================] - 1s 53ms/step - loss: 0.0522 - accuracy: 0.9937\n",
      "Epoch 62/100\n",
      "10/10 [==============================] - 1s 54ms/step - loss: 0.0453 - accuracy: 0.9953\n",
      "Epoch 63/100\n",
      "10/10 [==============================] - 1s 53ms/step - loss: 0.0431 - accuracy: 0.9922\n",
      "Epoch 64/100\n",
      "10/10 [==============================] - 1s 53ms/step - loss: 0.0407 - accuracy: 0.9937\n",
      "Epoch 65/100\n",
      "10/10 [==============================] - 1s 54ms/step - loss: 0.0425 - accuracy: 0.9922\n",
      "Epoch 66/100\n",
      "10/10 [==============================] - 1s 54ms/step - loss: 0.0356 - accuracy: 0.9953\n",
      "Epoch 67/100\n",
      "10/10 [==============================] - 1s 54ms/step - loss: 0.0394 - accuracy: 0.9953\n",
      "Epoch 68/100\n",
      "10/10 [==============================] - 1s 58ms/step - loss: 0.0408 - accuracy: 0.9922\n",
      "Epoch 69/100\n",
      "10/10 [==============================] - 1s 54ms/step - loss: 0.0366 - accuracy: 0.9969\n",
      "Epoch 70/100\n",
      "10/10 [==============================] - 1s 55ms/step - loss: 0.0426 - accuracy: 0.9937\n",
      "Epoch 71/100\n",
      "10/10 [==============================] - 1s 55ms/step - loss: 0.0287 - accuracy: 0.9984\n",
      "Epoch 72/100\n",
      "10/10 [==============================] - 1s 55ms/step - loss: 0.0297 - accuracy: 0.9969\n",
      "Epoch 73/100\n",
      "10/10 [==============================] - 1s 54ms/step - loss: 0.0345 - accuracy: 0.9969\n",
      "Epoch 74/100\n",
      "10/10 [==============================] - 1s 56ms/step - loss: 0.0369 - accuracy: 0.9953\n",
      "Epoch 75/100\n",
      "10/10 [==============================] - 1s 55ms/step - loss: 0.0251 - accuracy: 1.0000\n",
      "Epoch 76/100\n",
      "10/10 [==============================] - 1s 53ms/step - loss: 0.0270 - accuracy: 0.9969\n",
      "Epoch 77/100\n",
      "10/10 [==============================] - 1s 56ms/step - loss: 0.0342 - accuracy: 0.9984\n",
      "Epoch 78/100\n",
      "10/10 [==============================] - 1s 55ms/step - loss: 0.0249 - accuracy: 0.9984\n",
      "Epoch 79/100\n",
      "10/10 [==============================] - 1s 54ms/step - loss: 0.0362 - accuracy: 0.9937\n",
      "Epoch 80/100\n",
      "10/10 [==============================] - 1s 56ms/step - loss: 0.0253 - accuracy: 0.9984\n",
      "Epoch 81/100\n",
      "10/10 [==============================] - 1s 56ms/step - loss: 0.0234 - accuracy: 1.0000\n",
      "Epoch 82/100\n",
      "10/10 [==============================] - 1s 54ms/step - loss: 0.0304 - accuracy: 0.9937\n",
      "Epoch 83/100\n",
      "10/10 [==============================] - 1s 57ms/step - loss: 0.0230 - accuracy: 0.9984\n",
      "Epoch 84/100\n",
      "10/10 [==============================] - 1s 55ms/step - loss: 0.0314 - accuracy: 0.9922\n",
      "Epoch 85/100\n",
      "10/10 [==============================] - 1s 57ms/step - loss: 0.0264 - accuracy: 0.9953\n",
      "Epoch 86/100\n",
      "10/10 [==============================] - 1s 56ms/step - loss: 0.0225 - accuracy: 1.0000\n",
      "Epoch 87/100\n",
      "10/10 [==============================] - 1s 54ms/step - loss: 0.0172 - accuracy: 1.0000\n",
      "Epoch 88/100\n",
      "10/10 [==============================] - 1s 56ms/step - loss: 0.0309 - accuracy: 0.9937\n",
      "Epoch 89/100\n",
      "10/10 [==============================] - 1s 56ms/step - loss: 0.0311 - accuracy: 0.9937\n",
      "Epoch 90/100\n",
      "10/10 [==============================] - 1s 56ms/step - loss: 0.0224 - accuracy: 0.9969\n",
      "Epoch 91/100\n",
      "10/10 [==============================] - 1s 58ms/step - loss: 0.0218 - accuracy: 0.9969\n",
      "Epoch 92/100\n",
      "10/10 [==============================] - 1s 56ms/step - loss: 0.0264 - accuracy: 0.9953\n",
      "Epoch 93/100\n",
      "10/10 [==============================] - 1s 56ms/step - loss: 0.0317 - accuracy: 0.9937\n",
      "Epoch 94/100\n",
      "10/10 [==============================] - 1s 56ms/step - loss: 0.0249 - accuracy: 0.9953\n",
      "Epoch 95/100\n",
      "10/10 [==============================] - 1s 56ms/step - loss: 0.0221 - accuracy: 0.9953\n",
      "Epoch 96/100\n",
      "10/10 [==============================] - 1s 56ms/step - loss: 0.0307 - accuracy: 0.9937\n",
      "Epoch 97/100\n",
      "10/10 [==============================] - 1s 55ms/step - loss: 0.0249 - accuracy: 0.9969\n",
      "Epoch 98/100\n",
      "10/10 [==============================] - 1s 55ms/step - loss: 0.0201 - accuracy: 0.9969\n",
      "Epoch 99/100\n",
      "10/10 [==============================] - 1s 55ms/step - loss: 0.0160 - accuracy: 0.9984\n",
      "Epoch 100/100\n",
      "10/10 [==============================] - 1s 55ms/step - loss: 0.0155 - accuracy: 1.0000\n"
     ]
    },
    {
     "data": {
      "text/plain": [
       "<keras.callbacks.History at 0x22c891bc788>"
      ]
     },
     "execution_count": 18,
     "metadata": {},
     "output_type": "execute_result"
    }
   ],
   "source": [
    "from keras.callbacks import EarlyStopping\n",
    "from tensorflow.keras.optimizers import Adam\n",
    "\n",
    "initial_learning_rate = 0.0001  # Define your initial learning rate 0.0001  best\n",
    "adam_optimizer = Adam(learning_rate=initial_learning_rate)\n",
    "\n",
    "# Compile the model\n",
    "model.compile(optimizer=adam_optimizer, loss='sparse_categorical_crossentropy', metrics=['accuracy'])\n",
    "\n",
    "# Define EarlyStopping callback\n",
    "# early_stop = EarlyStopping(monitor='val_accuracy', patience=2)\n",
    "\n",
    "# Train the model with early stopping\n",
    "model.fit(np.expand_dims(X_train,axis=3), y_train, epochs=100, batch_size=64)"
   ]
  },
  {
   "cell_type": "markdown",
   "id": "74f4dcb5",
   "metadata": {},
   "source": [
    "#### Prediction"
   ]
  },
  {
   "cell_type": "code",
   "execution_count": 19,
   "id": "f203dc01",
   "metadata": {},
   "outputs": [
    {
     "name": "stdout",
     "output_type": "stream",
     "text": [
      "5/5 [==============================] - 1s 14ms/step\n",
      "              precision    recall  f1-score   support\n",
      "\n",
      "           0       1.00      1.00      1.00        32\n",
      "           1       0.97      1.00      0.98        29\n",
      "           2       0.97      0.91      0.94        34\n",
      "           3       0.93      0.96      0.95        28\n",
      "           4       1.00      1.00      1.00        37\n",
      "\n",
      "    accuracy                           0.97       160\n",
      "   macro avg       0.97      0.98      0.97       160\n",
      "weighted avg       0.98      0.97      0.97       160\n",
      "\n"
     ]
    }
   ],
   "source": [
    "pred = np.argmax(model.predict(X_valid),axis=1)\n",
    "print(classification_report(y_valid,pred))"
   ]
  },
  {
   "cell_type": "code",
   "execution_count": 19,
   "id": "d0676282",
   "metadata": {
    "scrolled": false
   },
   "outputs": [],
   "source": [
    "# # Assuming y_valid and pred are your true labels and predicted labels, respectively\n",
    "\n",
    "# # Get the confusion matrix\n",
    "# cm = confusion_matrix(y_valid, pred)\n",
    "\n",
    "# # Define class labels\n",
    "# class_labels = [0, 1, 2, 3, 4]\n",
    "\n",
    "# plt.figure(figsize=(4,3)) \n",
    "\n",
    "# # Create a seaborn heatmap for visualization\n",
    "# sns.heatmap(cm, annot=True, fmt=\"d\", cmap=\"Blues\", xticklabels=class_labels, yticklabels=class_labels)\n",
    "\n",
    "# # Add labels and title\n",
    "# plt.xlabel('Predicted')\n",
    "# plt.ylabel('True')\n",
    "# plt.title('Confusion Matrix')\n",
    "\n",
    "# # Display the plot\n",
    "# plt.show()\n"
   ]
  },
  {
   "cell_type": "code",
   "execution_count": 20,
   "id": "34f652db",
   "metadata": {},
   "outputs": [],
   "source": [
    "# num_classes = cm.shape[0]\n",
    "\n",
    "# for class_index in range(num_classes):\n",
    "#     # True Positive for the current class\n",
    "#     TP = cm[class_index, class_index]\n",
    "\n",
    "#     # False Positive for the current class\n",
    "#     FP = np.sum(cm[:, class_index]) - TP\n",
    "\n",
    "#     # False Negative for the current class\n",
    "#     FN = np.sum(cm[class_index, :]) - TP\n",
    "\n",
    "#     print(f\"False Positive for class {class_index}: {FP}\")\n",
    "#     print(f\"False Negative for class {class_index}: {FN}\")\n",
    "#     print()"
   ]
  },
  {
   "cell_type": "code",
   "execution_count": 20,
   "id": "2ebe96e2",
   "metadata": {},
   "outputs": [],
   "source": [
    "model.save(\"classi_model_gru.h5\")"
   ]
  },
  {
   "cell_type": "markdown",
   "id": "c4b7b4a6",
   "metadata": {},
   "source": [
    "## Prediction on noisy data"
   ]
  },
  {
   "cell_type": "code",
   "execution_count": 47,
   "id": "e8319eb6",
   "metadata": {},
   "outputs": [
    {
     "name": "stderr",
     "output_type": "stream",
     "text": [
      "100%|██████████| 200/200 [00:02<00:00, 94.33it/s] \n"
     ]
    }
   ],
   "source": [
    "import os\n",
    "from scipy.io import loadmat\n",
    "\n",
    "folder_path = 'data_classi/data_noaug/red5/noisy_Hristo'\n",
    "label_mapping = {\"AS\": 0, \"MR\": 1, \"MVP\": 2, \"MS\": 3, \"N\": 4}\n",
    "\n",
    "# Function to extract label from file name\n",
    "def extract_label(file_name):\n",
    "    for key, value in label_mapping.items():\n",
    "        if key in file_name:\n",
    "            return value\n",
    "    return None\n",
    "\n",
    "# Lists to store data and labels\n",
    "data_list = []\n",
    "labels_list = []\n",
    "\n",
    "# Loop through all files in the folder\n",
    "for file_name in tqdm.tqdm(os.listdir(folder_path)):\n",
    "    if file_name.endswith('.mat'):\n",
    "        file_path = os.path.join(folder_path, file_name)\n",
    "\n",
    "        # Load .mat file\n",
    "        mat_data = loadmat(file_path)\n",
    "\n",
    "        # Process your data as needed, for example, here just append the loaded data to the list\n",
    "        data_list.append(mat_data)\n",
    "\n",
    "        # Extract label from the file name\n",
    "        label = extract_label(file_name)\n",
    "\n",
    "        # Append the label to the labels list\n",
    "        labels_list.append(label)\n",
    "\n",
    "# Convert lists to arrays if needed\n",
    "data_noisy= np.array(data_list)\n",
    "test_y_noisy= np.array(labels_list)\n",
    "\n",
    "\n",
    "\n",
    "noise_spe_arrays = [entry['denoise_spe'] for entry in data_noisy]\n",
    "max_size = 512\n",
    "# max_size = max(arr.shape[1] for arr in noise_spe_arrays )\n",
    "# Pad each array to have the same size\n",
    "noisy_arrays = np.array([np.pad(arr, ((0, 0), (0, max_size - arr.shape[1])), mode='constant') for arr in noise_spe_arrays])"
   ]
  },
  {
   "cell_type": "code",
   "execution_count": null,
   "id": "400cc099",
   "metadata": {},
   "outputs": [],
   "source": []
  },
  {
   "cell_type": "code",
   "execution_count": null,
   "id": "b8296c55",
   "metadata": {},
   "outputs": [],
   "source": []
  },
  {
   "cell_type": "code",
   "execution_count": 48,
   "id": "e4229155",
   "metadata": {},
   "outputs": [
    {
     "data": {
      "text/plain": [
       "((200, 128, 512), (200,))"
      ]
     },
     "execution_count": 48,
     "metadata": {},
     "output_type": "execute_result"
    }
   ],
   "source": [
    "test_X_noisy_real = np.real(noisy_arrays)\n",
    "\n",
    "test_X_noisy_real.shape,test_y_noisy.shape"
   ]
  },
  {
   "cell_type": "code",
   "execution_count": 49,
   "id": "c5155fb4",
   "metadata": {},
   "outputs": [],
   "source": [
    "# #method1\n",
    "# # Use the selected_indices to get the corresponding data from test_X_noisy_real and test_y\n",
    "# test_X_noisy_subset = test_X_noisy_real[selected_indices]\n",
    "# test_y_subset = test_y[selected_indices]\n",
    "\n",
    "# # Display the selected data\n",
    "# for i in range(len(selected_indices)):\n",
    "#     index = selected_indices[i]\n",
    "#     x_data = test_X_noisy_subset[i]\n",
    "#     y_data = test_y_subset[i]\n",
    "    \n",
    "# test_X_noisy_subset.shape,test_y_subset.shape"
   ]
  },
  {
   "cell_type": "code",
   "execution_count": 50,
   "id": "d0348eac",
   "metadata": {},
   "outputs": [],
   "source": [
    "# # Extract values from test_y using selected_indices\n",
    "# test_y_subset = np.array([test_y[index] for index in selected_indices])\n",
    "\n",
    "# # Extract corresponding entries from test_X_noisy_real using selected_indices\n",
    "# test_X_noisy_subset = np.array([test_X_noisy_real[index] for index in selected_indices])\n",
    "\n",
    "# # Checking the shapes of the subsets\n",
    "# print(\"Shape of test_X_subset:\", test_X_noisy_subset.shape)\n",
    "# print(\"Shape of test_y_subset:\", test_y_subset.shape)"
   ]
  },
  {
   "cell_type": "code",
   "execution_count": 51,
   "id": "3a29d8c8",
   "metadata": {},
   "outputs": [],
   "source": [
    "pred = np.argmax(model.predict(test_X_noisy_real),axis=1)"
   ]
  },
  {
   "cell_type": "code",
   "execution_count": 52,
   "id": "895881e7",
   "metadata": {},
   "outputs": [
    {
     "name": "stdout",
     "output_type": "stream",
     "text": [
      "              precision    recall  f1-score   support\n",
      "\n",
      "           0       0.73      0.47      0.58        40\n",
      "           1       0.54      0.78      0.64        40\n",
      "           2       0.50      0.82      0.62        40\n",
      "           3       0.77      0.93      0.84        40\n",
      "           4       1.00      0.07      0.14        40\n",
      "\n",
      "    accuracy                           0.61       200\n",
      "   macro avg       0.71      0.61      0.56       200\n",
      "weighted avg       0.71      0.61      0.56       200\n",
      "\n"
     ]
    }
   ],
   "source": [
    "print(classification_report(test_y_noisy,pred))"
   ]
  },
  {
   "cell_type": "code",
   "execution_count": 53,
   "id": "43ee040b",
   "metadata": {
    "scrolled": true
   },
   "outputs": [
    {
     "data": {
      "image/png": "[encoded data removed]",
      "text/plain": [
       "<Figure size 400x300 with 2 Axes>"
      ]
     },
     "metadata": {},
     "output_type": "display_data"
    }
   ],
   "source": [
    "# Assuming test_y_subset and pred are your true labels and predicted labels, respectively\n",
    "\n",
    "# Get the confusion matrix\n",
    "cm = confusion_matrix(test_y_noisy, pred)\n",
    "\n",
    "# Define class labels\n",
    "class_labels = [0, 1, 2, 3, 4]\n",
    "\n",
    "plt.figure(figsize=(4,3)) \n",
    "\n",
    "# Create a seaborn heatmap for visualization\n",
    "sns.heatmap(cm, annot=True, fmt=\"d\", cmap=\"Blues\", xticklabels=class_labels, yticklabels=class_labels)\n",
    "\n",
    "# Add labels and title\n",
    "plt.xlabel('Predicted')\n",
    "plt.ylabel('True')\n",
    "plt.title('Confusion Matrix')\n",
    "\n",
    "# Display the plot\n",
    "plt.show()\n"
   ]
  },
  {
   "cell_type": "code",
   "execution_count": 54,
   "id": "7f10f4af",
   "metadata": {
    "scrolled": true
   },
   "outputs": [],
   "source": [
    "# num_classes = cm.shape[0]\n",
    "\n",
    "# for class_index in range(num_classes):\n",
    "#     # True Positive for the current class\n",
    "#     TP = cm[class_index, class_index]\n",
    "\n",
    "#     # False Positive for the current class\n",
    "#     FP = np.sum(cm[:, class_index]) - TP\n",
    "\n",
    "#     # False Negative for the current class\n",
    "#     FN = np.sum(cm[class_index, :]) - TP\n",
    "\n",
    "#     print(f\"False Positive for class {class_index}: {FP}\")\n",
    "#     print(f\"False Negative for class {class_index}: {FN}\")\n",
    "#     print()"
   ]
  },
  {
   "cell_type": "markdown",
   "id": "4e965a3f",
   "metadata": {},
   "source": [
    "# Denoise data"
   ]
  },
  {
   "cell_type": "code",
   "execution_count": 21,
   "id": "68c5226a",
   "metadata": {},
   "outputs": [],
   "source": [
    "# from keras.models import load_model\n",
    "\n",
    "# # Load the model from the file\n",
    "# loaded_model = load_model(\"denoisy_unet_0db_wgn_100.h5\")"
   ]
  },
  {
   "cell_type": "code",
   "execution_count": null,
   "id": "58dbe7b0",
   "metadata": {},
   "outputs": [],
   "source": []
  },
  {
   "cell_type": "code",
   "execution_count": 20,
   "id": "5dbcfe9f",
   "metadata": {
    "scrolled": true
   },
   "outputs": [
    {
     "name": "stderr",
     "output_type": "stream",
     "text": [
      "100%|██████████| 200/200 [00:00<00:00, 1838.91it/s]\n"
     ]
    }
   ],
   "source": [
    "import os\n",
    "from scipy.io import loadmat\n",
    "\n",
    "folder_path = 'data_classi/data_noaug/wgn-5/deoise_attnresi'\n",
    "label_mapping = {\"AS\": 0, \"MR\": 1, \"MVP\": 2, \"MS\": 3, \"N\": 4}\n",
    "\n",
    "# Function to extract label from file name\n",
    "def extract_label(file_name):\n",
    "    for key, value in label_mapping.items():\n",
    "        if key in file_name:\n",
    "            return value\n",
    "    return None\n",
    "\n",
    "# Lists to store data and labels\n",
    "data_list = []\n",
    "labels_list = []\n",
    "\n",
    "# Loop through all files in the folder\n",
    "for file_name in tqdm.tqdm(os.listdir(folder_path)):\n",
    "    if file_name.endswith('.mat'):\n",
    "        file_path = os.path.join(folder_path, file_name)\n",
    "\n",
    "        # Load .mat file\n",
    "        mat_data = loadmat(file_path)\n",
    "\n",
    "        # Process your data as needed, for example, here just append the loaded data to the list\n",
    "        data_list.append(mat_data)\n",
    "\n",
    "        # Extract label from the file name\n",
    "        label = extract_label(file_name)\n",
    "\n",
    "        # Append the label to the labels list\n",
    "        labels_list.append(label)\n",
    "\n",
    "# Convert lists to arrays if needed\n",
    "data_denoisy= np.array(data_list)\n",
    "y_denoisy= np.array(labels_list)\n",
    "\n",
    "\n",
    "\n",
    "denoise_spe_arrays = [entry['denoise_spe'] for entry in data_denoisy]\n",
    "# max_size = max(arr.shape[1] for arr in denoise_spe_arrays )\n",
    "max_size = 512\n",
    "# Pad each array to have the same size\n",
    "denoisy_arrays = np.array([np.pad(arr, ((0, 0), (0, max_size - arr.shape[1])), mode='constant') for arr in denoise_spe_arrays])"
   ]
  },
  {
   "cell_type": "code",
   "execution_count": 21,
   "id": "d478cad8",
   "metadata": {},
   "outputs": [
    {
     "data": {
      "text/plain": [
       "((200, 128, 512), (200,), (200, 128, 512))"
      ]
     },
     "execution_count": 21,
     "metadata": {},
     "output_type": "execute_result"
    }
   ],
   "source": [
    "test_X_denoisy_real = np.real(denoisy_arrays)\n",
    "\n",
    "reshaped_array = test_X_denoisy_real[:, :128, :]\n",
    "test_X_denoisy_real.shape,y_denoisy.shape,reshaped_array.shape"
   ]
  },
  {
   "cell_type": "code",
   "execution_count": null,
   "id": "a70af4eb",
   "metadata": {},
   "outputs": [],
   "source": []
  },
  {
   "cell_type": "markdown",
   "id": "ebd2a417",
   "metadata": {},
   "source": [
    "## Gradcam"
   ]
  },
  {
   "cell_type": "markdown",
   "id": "c9465a8e",
   "metadata": {},
   "source": [
    "Existing layers are: ['reshape', 'conv2d', 'max_pooling2d', 'dropout', 'conv2d_1', 'max_pooling2d_1', 'dropout_1', 'flatten', 'reshape_1', 'gru', 'dropout_2', 'dense']."
   ]
  },
  {
   "cell_type": "code",
   "execution_count": null,
   "id": "0d184a0b",
   "metadata": {},
   "outputs": [],
   "source": []
  },
  {
   "cell_type": "code",
   "execution_count": null,
   "id": "c2704fe8",
   "metadata": {},
   "outputs": [],
   "source": []
  },
  {
   "cell_type": "code",
   "execution_count": 35,
   "id": "02540b54",
   "metadata": {},
   "outputs": [
    {
     "name": "stdout",
     "output_type": "stream",
     "text": [
      "7/7 [==============================] - 0s 61ms/step\n",
      "              precision    recall  f1-score   support\n",
      "\n",
      "           0       0.68      0.68      0.68        40\n",
      "           1       0.63      0.78      0.70        40\n",
      "           2       0.77      0.57      0.66        40\n",
      "           3       0.86      0.93      0.89        40\n",
      "           4       0.97      0.93      0.95        40\n",
      "\n",
      "    accuracy                           0.78       200\n",
      "   macro avg       0.78      0.78      0.77       200\n",
      "weighted avg       0.78      0.78      0.77       200\n",
      "\n"
     ]
    }
   ],
   "source": [
    "pred = np.argmax(model.predict(reshaped_array),axis=1)\n",
    "print(classification_report(y_denoisy,pred))"
   ]
  },
  {
   "cell_type": "code",
   "execution_count": 36,
   "id": "98fec23a",
   "metadata": {},
   "outputs": [
    {
     "name": "stdout",
     "output_type": "stream",
     "text": [
      "Precision: 0.7816938109393083\n",
      "Recall: 0.775\n",
      "F1-score: 0.7738112568808387\n"
     ]
    }
   ],
   "source": [
    "from sklearn.metrics import precision_score, recall_score, f1_score\n",
    "\n",
    "# Assuming y_denoisy contains true labels and pred contains predicted labels\n",
    "# Calculate precision, recall, and F1-score\n",
    "precision = precision_score(y_denoisy, pred, average='weighted')\n",
    "recall = recall_score(y_denoisy, pred, average='weighted')\n",
    "f1 = f1_score(y_denoisy, pred, average='weighted')\n",
    "\n",
    "print(\"Precision:\", precision)\n",
    "print(\"Recall:\", recall)\n",
    "print(\"F1-score:\", f1)\n"
   ]
  },
  {
   "cell_type": "code",
   "execution_count": null,
   "id": "66832e42",
   "metadata": {},
   "outputs": [],
   "source": []
  },
  {
   "cell_type": "code",
   "execution_count": 37,
   "id": "c67181e4",
   "metadata": {
    "scrolled": true
   },
   "outputs": [
    {
     "data": {
      "image/png": "[encoded data removed]",
      "text/plain": [
       "<Figure size 400x300 with 2 Axes>"
      ]
     },
     "metadata": {},
     "output_type": "display_data"
    }
   ],
   "source": [
    "# Assuming test_y_subset and pred are your true labels and predicted labels, respectively\n",
    "\n",
    "# Get the confusion matrix\n",
    "cm = confusion_matrix(y_denoisy, pred)\n",
    "\n",
    "# Define class labels\n",
    "class_labels = ['AS', 'MR', 'MVP', 'MS', 'N']\n",
    "\n",
    "plt.figure(figsize=(4,3)) \n",
    "\n",
    "# Create a seaborn heatmap for visualization\n",
    "sns.heatmap(cm, annot=True, fmt=\"d\", cmap=\"Reds\", xticklabels=class_labels, yticklabels=class_labels)\n",
    "\n",
    "# Add labels and title\n",
    "plt.xlabel('Predicted label')\n",
    "plt.ylabel('True label')\n",
    "plt.title('Confusion Matrix')\n",
    "\n",
    "# Display the plot\n",
    "plt.show()\n"
   ]
  },
  {
   "cell_type": "code",
   "execution_count": 207,
   "id": "16676f53",
   "metadata": {},
   "outputs": [],
   "source": [
    "import scipy.io\n",
    "# Save the variable in .mat format\n",
    "scipy.io.savemat('y_denoisy.mat', {'y_denoisy': y_denoisy})"
   ]
  },
  {
   "cell_type": "code",
   "execution_count": 208,
   "id": "3d23a370",
   "metadata": {},
   "outputs": [],
   "source": [
    "scipy.io.savemat('pred.mat', {'pred': pred})"
   ]
  },
  {
   "cell_type": "code",
   "execution_count": 209,
   "id": "949ab254",
   "metadata": {},
   "outputs": [
    {
     "data": {
      "text/plain": [
       "array([0, 0, 0, 0, 0, 0, 0, 0, 0, 0, 0, 0, 0, 0, 0, 0, 0, 0, 0, 0, 0, 0,\n",
       "       0, 0, 0, 0, 0, 2, 0, 0, 0, 3, 3, 0, 0, 0, 0, 0, 0, 0, 1, 1, 1, 1,\n",
       "       1, 1, 1, 1, 1, 1, 1, 1, 1, 1, 1, 1, 1, 1, 1, 1, 1, 1, 1, 1, 1, 0,\n",
       "       0, 0, 0, 0, 0, 0, 0, 1, 2, 1, 2, 1, 1, 1, 3, 3, 3, 3, 3, 3, 3, 3,\n",
       "       3, 2, 3, 3, 3, 3, 3, 3, 3, 3, 3, 3, 3, 3, 3, 3, 3, 3, 3, 3, 3, 3,\n",
       "       3, 3, 3, 2, 3, 3, 3, 3, 3, 3, 2, 2, 2, 2, 2, 2, 2, 2, 1, 2, 2, 2,\n",
       "       2, 2, 2, 2, 2, 2, 2, 2, 0, 0, 0, 2, 2, 2, 2, 2, 0, 0, 2, 2, 2, 2,\n",
       "       2, 3, 2, 2, 0, 0, 4, 4, 4, 4, 4, 4, 4, 4, 4, 4, 4, 4, 4, 4, 4, 4,\n",
       "       4, 4, 4, 4, 4, 4, 4, 4, 4, 4, 4, 4, 4, 4, 4, 4, 4, 1, 4, 1, 4, 4,\n",
       "       4, 4], dtype=int64)"
      ]
     },
     "execution_count": 209,
     "metadata": {},
     "output_type": "execute_result"
    }
   ],
   "source": [
    "pred"
   ]
  },
  {
   "cell_type": "code",
   "execution_count": null,
   "id": "839977eb",
   "metadata": {},
   "outputs": [],
   "source": []
  },
  {
   "cell_type": "code",
   "execution_count": null,
   "id": "b9b77102",
   "metadata": {},
   "outputs": [],
   "source": []
  },
  {
   "cell_type": "code",
   "execution_count": null,
   "id": "b8f5b9db",
   "metadata": {},
   "outputs": [],
   "source": []
  },
  {
   "cell_type": "code",
   "execution_count": null,
   "id": "2935e2cf",
   "metadata": {},
   "outputs": [],
   "source": []
  },
  {
   "cell_type": "code",
   "execution_count": 31,
   "id": "243318d8",
   "metadata": {},
   "outputs": [],
   "source": [
    "\n",
    "# num_classes = cm.shape[0]\n",
    "\n",
    "# for class_index in range(num_classes):\n",
    "#     # True Positive for the current class\n",
    "#     TP = cm[class_index, class_index]\n",
    "\n",
    "#     # False Positive for the current class\n",
    "#     FP = np.sum(cm[:, class_index]) - TP\n",
    "\n",
    "#     # False Negative for the current class\n",
    "#     FN = np.sum(cm[class_index, :]) - TP\n",
    "\n",
    "#     print(f\"False Positive for class {class_index}: {FP}\")\n",
    "#     print(f\"False Negative for class {class_index}: {FN}\")\n",
    "#     print()"
   ]
  },
  {
   "cell_type": "code",
   "execution_count": null,
   "id": "787ddd64",
   "metadata": {},
   "outputs": [],
   "source": []
  },
  {
   "cell_type": "code",
   "execution_count": null,
   "id": "100ba132",
   "metadata": {},
   "outputs": [],
   "source": []
  }
 ],
 "metadata": {
  "kernelspec": {
   "display_name": "Python 3 (ipykernel)",
   "language": "python",
   "name": "python3"
  },
  "language_info": {
   "codemirror_mode": {
    "name": "ipython",
    "version": 3
   },
   "file_extension": ".py",
   "mimetype": "text/x-python",
   "name": "python",
   "nbconvert_exporter": "python",
   "pygments_lexer": "ipython3",
   "version": "3.7.16"
  }
 },
 "nbformat": 4,
 "nbformat_minor": 5
}
